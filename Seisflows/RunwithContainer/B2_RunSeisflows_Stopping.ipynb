{
 "cells": [
  {
   "cell_type": "markdown",
   "id": "71a84366-23fa-421a-8355-36519bac41cd",
   "metadata": {},
   "source": [
    "## Running seisflows following 2D Example Walkthrough\n",
    "https://seisflows.readthedocs.io/en/devel/2D_example_walkthrough.html   \n",
    "by AR  "
   ]
  },
  {
   "cell_type": "code",
   "execution_count": null,
   "id": "1c2f85a3-be3a-4a69-83b8-4c95cbe3e226",
   "metadata": {},
   "outputs": [],
   "source": [
    "import os\n",
    "import glob\n",
    "import shutil\n",
    "import numpy as np\n",
    "from IPython.display import Image"
   ]
  },
  {
   "cell_type": "code",
   "execution_count": null,
   "id": "128cec3f-d8cd-444e-8e52-92de127de5c3",
   "metadata": {},
   "outputs": [],
   "source": [
    "# vvv USER MUST EDIT THE FOLLOWING PATHS vvv\n",
    "WORKDIR = os.getcwd()\n",
    "SPECFEM2D = \"/home/scoped\"\n",
    "# where WORKDIR: points to your own working directory\n",
    "# and SPECFEM2D: points to an existing specfem2D repository if available (if not set as '')\n",
    "# ^^^ USER MUST EDIT THE FOLLOWING PATHS ^^^\n",
    "# ======================================================================================================\n",
    "\n",
    "# Distribute the necessary file structure of the SPECFEM2D repository that we will downloaded/reference\n",
    "SPECFEM2D_ORIGINAL = os.path.join(SPECFEM2D, \"specfem2d\") \n",
    "SPECFEM2D_BIN_ORIGINAL = os.path.join(SPECFEM2D_ORIGINAL, \"bin\")\n",
    "SPECFEM2D_DATA_ORIGINAL = os.path.join(SPECFEM2D_ORIGINAL, \"DATA\")\n",
    "TAPE_2007_EXAMPLE = os.path.join(SPECFEM2D_ORIGINAL, \"EXAMPLES\", \"Tape2007\")\n",
    "\n",
    "# The SPECFEM2D working directory that we will create separate from the downloaded repo\n",
    "SPECFEM2D_WORKDIR = os.path.join(WORKDIR, \"specfem2d_workdir\")\n",
    "SPECFEM2D_BIN = os.path.join(SPECFEM2D_WORKDIR, \"bin\")\n",
    "SPECFEM2D_DATA = os.path.join(SPECFEM2D_WORKDIR, \"DATA\")\n",
    "SPECFEM2D_OUTPUT = os.path.join(SPECFEM2D_WORKDIR, \"OUTPUT_FILES\")\n",
    "\n",
    "# Pre-defined locations of velocity models we will generate using the solver\n",
    "SPECFEM2D_MODEL_INIT = os.path.join(SPECFEM2D_WORKDIR, \"OUTPUT_FILES_INIT\")\n",
    "SPECFEM2D_MODEL_TRUE = os.path.join(SPECFEM2D_WORKDIR, \"OUTPUT_FILES_TRUE\")"
   ]
  },
  {
   "cell_type": "code",
   "execution_count": null,
   "id": "97332bc5-d946-4f52-b403-f7bc00518c27",
   "metadata": {},
   "outputs": [],
   "source": [
    "!seisflows -h"
   ]
  },
  {
   "cell_type": "markdown",
   "id": "894556d5-1a2b-4193-9acb-90f6e1a38773",
   "metadata": {},
   "source": [
    "## Populate Par_file"
   ]
  },
  {
   "cell_type": "code",
   "execution_count": null,
   "id": "f343be9f-3d84-4dd1-a01c-95b31317b1b7",
   "metadata": {},
   "outputs": [],
   "source": [
    "# The command 'setup' creates the 'parameters.yaml' file that controls all of SeisFlows\n",
    "# the '-f' flag removes any exist 'parameters.yaml' file that might be in the directory\n",
    "os.chdir(WORKDIR)\n",
    "!seisflows setup -f\n",
    "!ls"
   ]
  },
  {
   "cell_type": "code",
   "execution_count": null,
   "id": "63c97e3b-d483-4d96-9d4f-096ba1bf201d",
   "metadata": {},
   "outputs": [],
   "source": [
    "# Let's have a look at this file, which has not yet been populated\n",
    "!cat parameters.yaml"
   ]
  },
  {
   "cell_type": "code",
   "execution_count": null,
   "id": "6d801f1e-b678-4b1f-857e-78f76e143e68",
   "metadata": {},
   "outputs": [],
   "source": [
    "# We can use the `seisflows print modules` command to list out the available options\n",
    "!seisflows print modules"
   ]
  },
  {
   "cell_type": "code",
   "execution_count": null,
   "id": "ddbc4d7e-1867-411c-9580-01ad1caca953",
   "metadata": {},
   "outputs": [],
   "source": [
    "# For this example, we can use most of the default modules, however we need to\n",
    "# change the SOLVER module to let SeisFlows know we're using SPECFEM2D (as opposed to 3D)\n",
    "!seisflows par workflow inversion\n",
    "!seisflows par preprocess pyaflowa\n",
    "!seisflows par optimize LBFGS\n",
    "!cat parameters.yaml"
   ]
  },
  {
   "cell_type": "code",
   "execution_count": null,
   "id": "1ff88fa5-86d5-4b52-9858-5ebc88baed13",
   "metadata": {},
   "outputs": [],
   "source": [
    "# The seisflows configure command populates the parameter file based on the chosen modules. \n",
    "# SeisFlows will attempt to fill in all parameters with reasonable default values. \n",
    "!seisflows configure\n",
    "!head --lines=50 parameters.yaml"
   ]
  },
  {
   "cell_type": "code",
   "execution_count": null,
   "id": "6a6f74af-32be-44bf-857c-bca972876bb3",
   "metadata": {},
   "outputs": [],
   "source": [
    "# EDIT THE SEISFLOWS PARAMETER FILE\n",
    "!seisflows par ntask 3  # set the number of sources/events to use\n",
    "!seisflows par nproc 1  # set the number of sources/events to use\n",
    "!seisflows par materials elastic  # update Vp and Vs during inversion\n",
    "!seisflows par end 5    # final iteration -- we will only run 1\n",
    "!seisflows par data_case synthetic  # synthetic-synthetic means we need both INIT and TRUE models\n",
    "!seisflows par components Y  # this default example creates Y-component seismograms\n",
    "!seisflows par step_count_max 10  # limit the number of steps in the line search\n",
    "!seisflows par smooth_h 5000  # smoothing distance \n",
    "!seisflows par smooth_v 5000  # smoothing distance\n",
    "!seisflows par min_period 10  # tmin\n",
    "!seisflows par max_period 200 # tmax\n",
    "!seisflows par filter_corners 4 # limit the number of steps in the line search\n",
    "\n",
    "# Use Python syntax here to access path constants\n",
    "os.system(f\"seisflows par path_specfem_bin {SPECFEM2D_BIN}\")  # set path to SPECFEM2D binaries\n",
    "os.system(f\"seisflows par path_specfem_data {SPECFEM2D_DATA}\")  # set path to SEPCFEM2D DATA/\n",
    "os.system(f\"seisflows par path_model_init {SPECFEM2D_MODEL_INIT}\")  # set path to INIT model\n",
    "os.system(f\"seisflows par path_model_true {SPECFEM2D_MODEL_TRUE}\")  # set path to TRUE model"
   ]
  },
  {
   "cell_type": "code",
   "execution_count": null,
   "id": "7885de03-4bae-4569-83b3-3617f6c437d3",
   "metadata": {},
   "outputs": [],
   "source": [
    "# edit the SPECFEM2D Par_file parameter MODEL such that xmeshfem2d reads our pre-built velocity models \n",
    "# (*.bin files) rather than the meshing parameters defined in the Par_file.\n",
    "os.chdir(SPECFEM2D_DATA)\n",
    "!seisflows sempar model gll"
   ]
  },
  {
   "cell_type": "markdown",
   "id": "a7fb46ad-85f0-4f3d-9d7c-d269a3c50515",
   "metadata": {},
   "source": [
    "## Run seisflows "
   ]
  },
  {
   "cell_type": "markdown",
   "id": "aa4a602e-7659-470e-8f72-096cb8a4f8fe",
   "metadata": {},
   "source": [
    "### Forward simulation"
   ]
  },
  {
   "cell_type": "code",
   "execution_count": null,
   "id": "a329af9a-c380-4531-b0bf-729632d5d9f7",
   "metadata": {},
   "outputs": [],
   "source": [
    "os.chdir(WORKDIR)\n",
    "!seisflows print tasks"
   ]
  },
  {
   "cell_type": "markdown",
   "id": "2d2a8595-c5c0-4bb7-bf81-9b9ab63ce1b5",
   "metadata": {},
   "source": [
    "In the Inversion workflow, the tasks listed are described as follows:\n",
    "\n",
    "1. Evaluate_initial_misfit:  \n",
    "a. Prepare data for inversion by either copying data from disk or generating ‘synthetic data’ with MODEL_TRUE  \n",
    "b. Call numerical solver to run forward simulations using MODEL_INIT, generating synthetics  \n",
    "c. Evaluate the objective function by performing waveform comparisons  \n",
    "d. Prepare run_adjoint_simulations step by generating adjoint sources and auxiliary files  \n",
    "2. Run_adjoint_simulations: Call numerical solver to run adjoint simulation, generating kernels\n",
    "3. Postprocess_event_kernels: Combine all event kernels into a misfit kernel.\n",
    "4. Evaluate_gradient_from_kernels: Smooth and mask the misfit kernel to create the gradient\n",
    "5. Initialize_line_search: Call on the optimization library to scale the gradient by a step length to compute the search direction. Prepare file structure for line search.\n",
    "6. Perform_line_search: Perform a line search by algorithmically scaling the gradient and evaluating the misfit function (forward simulations and misfit quantification) until misfit is acceptably reduced.\n",
    "7. Finalize_iteration: Run any finalization steps such as saving traces, kernels, gradients and models to disk, setting up SeisFlows for any subsequent iterations. Clean the scratch/ directory in preparation for subsequent iterations"
   ]
  },
  {
   "cell_type": "code",
   "execution_count": null,
   "id": "1a71c934-5384-4514-8758-83fb93a4f55b",
   "metadata": {},
   "outputs": [],
   "source": [
    "!seisflows par stop_after evaluate_initial_misfit"
   ]
  },
  {
   "cell_type": "code",
   "execution_count": null,
   "id": "624d3c3d-b3f1-4f52-a4cf-4bff37e9c611",
   "metadata": {},
   "outputs": [],
   "source": [
    "# Now let’s run SeisFlows. There are two ways to do this: submit and restart\n",
    "!seisflows submit"
   ]
  },
  {
   "cell_type": "markdown",
   "id": "cee76a18-11aa-423b-aade-5d481d12009b",
   "metadata": {},
   "source": [
    "seisflows submit is used to run new workflows and resume stopped or failed workflows.\n",
    "The restart command is simply a convenience function that runs clean (to remove an active working state) and submit (to submit a fresh workflow).\n",
    "Since this is our first run, we’ll use seisflows submit."
   ]
  },
  {
   "cell_type": "code",
   "execution_count": null,
   "id": "d8054e1e-b188-464f-98f3-2f2fda6777ab",
   "metadata": {},
   "outputs": [],
   "source": [
    "# The adjoint source is created in the same format as the synthetics (two-column ASCII)\n",
    "!head scratch/solver/001/traces/adj/AA.S0001.BXY.adj"
   ]
  },
  {
   "cell_type": "markdown",
   "id": "1ced374a-d0e2-4c75-b560-0f4274575db4",
   "metadata": {},
   "source": [
    "### Adjoint simulation\n",
    "Now that we have all the required files for running an adjoint simulation (*.adj waveforms and STATIONS_ADJOINT file), we can continue with the SeisFlows3 Inversion workflow. No need to edit the Par_file or anything like that, SeisFlows3 will take care of that under the hood. We simply need to tell the workflow (via the parameters.yaml file) to resume_from the correct function. We can have a look at these functions again:"
   ]
  },
  {
   "cell_type": "code",
   "execution_count": null,
   "id": "3170bde9-10b7-4615-a8cd-b7f2d97eb449",
   "metadata": {},
   "outputs": [],
   "source": [
    "!seisflows print tasks"
   ]
  },
  {
   "cell_type": "code",
   "execution_count": null,
   "id": "a9ead623-e724-4c59-8603-c69d62f73792",
   "metadata": {},
   "outputs": [],
   "source": [
    "# We'll stop just before the line search so that we can take a look at the files\n",
    "# generated during the middle tasks\n",
    "!seisflows par stop_after evaluate_gradient_from_kernels"
   ]
  },
  {
   "cell_type": "code",
   "execution_count": null,
   "id": "bd465ee0-ef1a-4822-a0b0-c00e2c299287",
   "metadata": {},
   "outputs": [],
   "source": [
    "# We can use the `seisflows submit` command to continue an active workflow\n",
    "# The state file created during the first run will tell the workflow to resume from the stopped point in the workflow\n",
    "!seisflows submit"
   ]
  },
  {
   "cell_type": "code",
   "execution_count": null,
   "id": "9ac21acd-3027-406b-8649-efee4127d094",
   "metadata": {},
   "outputs": [],
   "source": [
    "# Gradient evaluation files are stored here, the kernels are stored separately from the gradient incase\n",
    "# the user wants to manually manipulate them\n",
    "!ls scratch/eval_grad"
   ]
  },
  {
   "cell_type": "code",
   "execution_count": null,
   "id": "5a467ea9-ead6-4905-8408-1c3ccaa216e0",
   "metadata": {},
   "outputs": [],
   "source": [
    "# SeisFlows3 stores all kernels and gradient information as SPECFEM binary (.bin) files\n",
    "!ls scratch/eval_grad/gradient"
   ]
  },
  {
   "cell_type": "code",
   "execution_count": null,
   "id": "e1fc5a9f-47e3-4d91-9fa9-39535e623e01",
   "metadata": {},
   "outputs": [],
   "source": [
    "# Kernels are stored on a per-event basis, and summed together (sum/). If smoothing was performed,\n",
    "# we would see both smoothed and unsmoothed versions of the misfit kernel\n",
    "!ls scratch/eval_grad/kernels"
   ]
  },
  {
   "cell_type": "code",
   "execution_count": null,
   "id": "2d0eb9f7-eff1-4a60-8e81-ff8e1e95e19a",
   "metadata": {},
   "outputs": [],
   "source": [
    "# We can see that some new values have been stored in prepartion for the line search,\n",
    "# including g_new (current gradient) and p_new (current search direction). These are also\n",
    "# stored as vector NumPy arrays (.npy files)\n",
    "!ls scratch/optimize"
   ]
  },
  {
   "cell_type": "code",
   "execution_count": null,
   "id": "5b0958f2-c17b-42f2-9a91-615d2e6f60ed",
   "metadata": {},
   "outputs": [],
   "source": [
    "g_new = np.load(\"scratch/optimize/g_new.npz\")\n",
    "print(g_new[\"vs_kernel\"])"
   ]
  },
  {
   "cell_type": "code",
   "execution_count": null,
   "id": "38cdf660-7209-437c-88a1-1f1fca17ec66",
   "metadata": {},
   "outputs": [],
   "source": [
    "# We don't want to run the finalize_iteration argument so that we can explore the dir\n",
    "!seisflows par stop_after perform_line_search "
   ]
  },
  {
   "cell_type": "code",
   "execution_count": null,
   "id": "e95f7059-c4ab-4beb-8bc9-667d96937764",
   "metadata": {},
   "outputs": [],
   "source": [
    "!seisflows submit"
   ]
  },
  {
   "cell_type": "markdown",
   "id": "c7ce8cb0-425d-4cb3-be6e-6a48de57e848",
   "metadata": {},
   "source": [
    "From the log statements above, we can see that the SeisFlows line search required 4 trial steps, where it modified values of Vs (shear-wave velocity) until satisfactory reduction in the objective function was met. This was the final step in the iteration, and so the finalization of the line search made preparations for a subsequent iteration."
   ]
  },
  {
   "cell_type": "code",
   "execution_count": null,
   "id": "7f94fb62-aade-44ac-89f1-51ee06751e93",
   "metadata": {},
   "outputs": [],
   "source": [
    "# We can see that we have 'new' and 'old' values for each of the optimization values,\n",
    "# representing the previous model (M00) and the current model (M01).\n",
    "!ls scratch/optimize"
   ]
  },
  {
   "cell_type": "code",
   "execution_count": null,
   "id": "a3992c37-c816-4fc1-bd3b-a313143a4681",
   "metadata": {},
   "outputs": [],
   "source": [
    "# The stats/ directory contains text files describing the optimization/line search\n",
    "!cat scratch/optimize/output_optim.txt"
   ]
  },
  {
   "cell_type": "code",
   "execution_count": null,
   "id": "d8ea37d2-f389-4507-bf8f-0cdecdccb58a",
   "metadata": {},
   "outputs": [],
   "source": []
  }
 ],
 "metadata": {
  "kernelspec": {
   "display_name": "Python 3 (ipykernel)",
   "language": "python",
   "name": "python3"
  },
  "language_info": {
   "codemirror_mode": {
    "name": "ipython",
    "version": 3
   },
   "file_extension": ".py",
   "mimetype": "text/x-python",
   "name": "python",
   "nbconvert_exporter": "python",
   "pygments_lexer": "ipython3",
   "version": "3.10.6"
  }
 },
 "nbformat": 4,
 "nbformat_minor": 5
}
