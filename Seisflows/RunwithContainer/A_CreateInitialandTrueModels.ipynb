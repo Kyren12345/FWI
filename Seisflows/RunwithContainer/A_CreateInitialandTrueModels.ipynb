{
 "cells": [
  {
   "cell_type": "markdown",
   "id": "10d23548-9cd2-470b-9e84-525837045094",
   "metadata": {},
   "source": [
    "## Running seisflows following 2D Example Walkthrough\n",
    "https://seisflows.readthedocs.io/en/devel/2D_example_walkthrough.html   \n",
    "by AR  "
   ]
  },
  {
   "cell_type": "code",
   "execution_count": 1,
   "id": "15ca856a-2fc9-4b2b-8572-93fd7b91c553",
   "metadata": {},
   "outputs": [],
   "source": [
    "import os\n",
    "import glob\n",
    "import shutil\n",
    "import numpy as np"
   ]
  },
  {
   "cell_type": "code",
   "execution_count": 2,
   "id": "6ba94ca1-3c9d-40d8-9747-b63f39594aa5",
   "metadata": {},
   "outputs": [],
   "source": [
    "# vvv USER MUST EDIT THE FOLLOWING PATHS vvv\n",
    "WORKDIR = os.getcwd()\n",
    "SPECFEM2D = \"/home/scoped\"\n",
    "# where WORKDIR: points to your own working directory\n",
    "# and SPECFEM2D: points to an existing specfem2D repository if available (if not set as '')\n",
    "# ^^^ USER MUST EDIT THE FOLLOWING PATHS ^^^\n",
    "# ======================================================================================================\n",
    "\n",
    "# Distribute the necessary file structure of the SPECFEM2D repository that we will downloaded/reference\n",
    "SPECFEM2D_ORIGINAL = os.path.join(SPECFEM2D, \"specfem2d\") \n",
    "SPECFEM2D_BIN_ORIGINAL = os.path.join(SPECFEM2D_ORIGINAL, \"bin\")\n",
    "SPECFEM2D_DATA_ORIGINAL = os.path.join(SPECFEM2D_ORIGINAL, \"DATA\")\n",
    "TAPE_2007_EXAMPLE = os.path.join(SPECFEM2D_ORIGINAL, \"EXAMPLES\", \"Tape2007\")\n",
    "\n",
    "# The SPECFEM2D working directory that we will create separate from the downloaded repo\n",
    "SPECFEM2D_WORKDIR = os.path.join(WORKDIR, \"specfem2d_workdir\")\n",
    "SPECFEM2D_BIN = os.path.join(SPECFEM2D_WORKDIR, \"bin\")\n",
    "SPECFEM2D_DATA = os.path.join(SPECFEM2D_WORKDIR, \"DATA\")\n",
    "SPECFEM2D_OUTPUT = os.path.join(SPECFEM2D_WORKDIR, \"OUTPUT_FILES\")\n",
    "\n",
    "# Pre-defined locations of velocity models we will generate using the solver\n",
    "SPECFEM2D_MODEL_INIT = os.path.join(SPECFEM2D_WORKDIR, \"OUTPUT_FILES_INIT\")\n",
    "SPECFEM2D_MODEL_TRUE = os.path.join(SPECFEM2D_WORKDIR, \"OUTPUT_FILES_TRUE\")"
   ]
  },
  {
   "cell_type": "code",
   "execution_count": 3,
   "id": "99331031-38ea-47fd-8a4e-5b9be71c3b8c",
   "metadata": {},
   "outputs": [
    {
     "name": "stdout",
     "output_type": "stream",
     "text": [
      "/home/scoped/work/specfem2d_workdir\n",
      "bin  DATA\n"
     ]
    }
   ],
   "source": [
    "# Incase we've run this docs page before, delete the working directory before remaking\n",
    "if os.path.exists(SPECFEM2D_WORKDIR):\n",
    "    shutil.rmtree(SPECFEM2D_WORKDIR)\n",
    "\n",
    "os.mkdir(SPECFEM2D_WORKDIR)\n",
    "os.chdir(SPECFEM2D_WORKDIR)\n",
    "\n",
    "# Copy the binary files incase we update the source code. These can also be symlinked.\n",
    "shutil.copytree(SPECFEM2D_BIN_ORIGINAL, \"bin\")\n",
    "\n",
    "# Copy the DATA/ directory because we will be making edits here frequently and it's useful to\n",
    "# retain the original files for reference. We will be running one of the example problems: Tape2007\n",
    "shutil.copytree(os.path.join(TAPE_2007_EXAMPLE, \"DATA\"), \"DATA\")\n",
    "!pwd\n",
    "!ls"
   ]
  },
  {
   "cell_type": "code",
   "execution_count": 4,
   "id": "27ab9048-c6a5-4cdc-b381-3f82f99016f6",
   "metadata": {},
   "outputs": [
    {
     "name": "stdout",
     "output_type": "stream",
     "text": [
      " -------------------------------------------------------------------------------\n",
      " -------------------------------------------------------------------------------\n",
      " D a t e : 01 - 03 - 2023                                 T i m e  : 03:09:37\n",
      " -------------------------------------------------------------------------------\n",
      " -------------------------------------------------------------------------------\n",
      "\n",
      "see results in directory: OUTPUT_FILES/\n",
      "\n",
      "done\n",
      "Wed 01 Mar 2023 03:09:37 AM UTC\n"
     ]
    }
   ],
   "source": [
    "# Run the Tape2007 example to make sure SPECFEM2D is working as expected\n",
    "os.chdir(TAPE_2007_EXAMPLE)\n",
    "!./run_this_example.sh > output_log.txt\n",
    "\n",
    "assert(os.path.exists(\"OUTPUT_FILES/forward_image000004800.jpg\")), \\\n",
    "    (f\"Example did not run, the remainder of this docs page will likely not work.\"\n",
    "     f\"Please check the following directory: {TAPE_2007_EXAMPLE}\")\n",
    "\n",
    "!tail output_log.txt"
   ]
  },
  {
   "cell_type": "code",
   "execution_count": 5,
   "id": "1ae1882e-e243-41b9-8ff3-870d6e6863a7",
   "metadata": {},
   "outputs": [
    {
     "name": "stdout",
     "output_type": "stream",
     "text": [
      "interfaces_Tape2007.dat\t\t     SOURCE_003  SOURCE_012  SOURCE_021\n",
      "model_velocity.dat_checker\t     SOURCE_004  SOURCE_013  SOURCE_022\n",
      "Par_file\t\t\t     SOURCE_005  SOURCE_014  SOURCE_023\n",
      "Par_file_Tape2007_132rec_checker     SOURCE_006  SOURCE_015  SOURCE_024\n",
      "Par_file_Tape2007_onerec\t     SOURCE_007  SOURCE_016  SOURCE_025\n",
      "proc000000_model_velocity.dat_input  SOURCE_008  SOURCE_017  STATIONS\n",
      "SOURCE\t\t\t\t     SOURCE_009  SOURCE_018  STATIONS_checker\n",
      "SOURCE_001\t\t\t     SOURCE_010  SOURCE_019\n",
      "SOURCE_002\t\t\t     SOURCE_011  SOURCE_020\n"
     ]
    }
   ],
   "source": [
    "# First we will set the correct SOURCE and STATION files.\n",
    "# This is the same task as shown in ./run_this_example.sh\n",
    "os.chdir(SPECFEM2D_DATA)\n",
    "\n",
    "# Symlink source 001 as our main source\n",
    "if os.path.exists(\"SOURCE\"):\n",
    "    os.remove(\"SOURCE\")\n",
    "os.symlink(\"SOURCE_001\", \"SOURCE\")\n",
    "\n",
    "# Copy the correct Par_file so that edits do not affect the original file\n",
    "if os.path.exists(\"Par_file\"):\n",
    "    os.remove(\"Par_file\")\n",
    "shutil.copy(\"Par_file_Tape2007_onerec\", \"Par_file\")\n",
    "\n",
    "!ls"
   ]
  },
  {
   "cell_type": "markdown",
   "id": "4b18e8e4-f398-4139-8de2-a56b83011621",
   "metadata": {},
   "source": [
    "### Generate initial model"
   ]
  },
  {
   "cell_type": "code",
   "execution_count": 6,
   "id": "5cca4cc4-d24a-4c1b-9d64-458ee744a265",
   "metadata": {},
   "outputs": [
    {
     "name": "stdout",
     "output_type": "stream",
     "text": [
      "NPROC: 1 -> 1\n",
      "setup_with_binary_database: 0 -> 1\n",
      "SAVE_MODEL: default -> binary\n",
      "save_ASCII_kernels: .true. -> .false.\n"
     ]
    }
   ],
   "source": [
    "os.chdir(SPECFEM2D_DATA)\n",
    "\n",
    "# Ensure that SPECFEM2D outputs the velocity model in the expected binary format\n",
    "!seisflows sempar NPROC 1  # allow creation of .bin files\n",
    "!seisflows sempar setup_with_binary_database 1  # allow creation of .bin files\n",
    "!seisflows sempar save_model binary  # output model in .bin database format\n",
    "!seisflows sempar save_ascii_kernels .false.  # output kernels in .bin format, not ASCII"
   ]
  },
  {
   "cell_type": "code",
   "execution_count": 7,
   "id": "435add83-327e-416f-9320-34d0c4f397e9",
   "metadata": {},
   "outputs": [
    {
     "name": "stdout",
     "output_type": "stream",
     "text": [
      "bin  DATA  OUTPUT_FILES\n"
     ]
    }
   ],
   "source": [
    "# SPECFEM requires that we create the OUTPUT_FILES directory before running\n",
    "os.chdir(SPECFEM2D_WORKDIR)\n",
    "\n",
    "if os.path.exists(SPECFEM2D_OUTPUT):\n",
    "    shutil.rmtree(SPECFEM2D_OUTPUT)\n",
    "\n",
    "os.mkdir(SPECFEM2D_OUTPUT)\n",
    "\n",
    "!ls"
   ]
  },
  {
   "cell_type": "code",
   "execution_count": 8,
   "id": "48e53211-9ce0-4d6d-8d01-889388a9cb0f",
   "metadata": {},
   "outputs": [
    {
     "name": "stdout",
     "output_type": "stream",
     "text": [
      "/home/scoped/work/specfem2d_workdir\n",
      "\n",
      " **********************************************\n",
      " **** Specfem 2-D Solver - MPI version     ****\n",
      " **********************************************\n",
      "\n",
      " Running Git version of the code corresponding to commit 604f766101c9ece3d588d61e6275d81d50dd8e65\n",
      " dating From Date:   Thu Sep 22 12:55:08 2022 +0200\n",
      "\n",
      " There are            1  MPI processes\n",
      " Processes are numbered from 0 to            0\n",
      " -------------------------------------------------------------------------------\n",
      " Program SPECFEM2D: \n",
      " -------------------------------------------------------------------------------\n",
      " -------------------------------------------------------------------------------\n",
      " Tape-Liu-Tromp (GJI 2007)\n",
      " -------------------------------------------------------------------------------\n",
      " -------------------------------------------------------------------------------\n",
      " D a t e : 01 - 03 - 2023                                 T i m e  : 03:09:49\n",
      " -------------------------------------------------------------------------------\n",
      " -------------------------------------------------------------------------------\n"
     ]
    }
   ],
   "source": [
    "# GENERATE MODEL_INIT\n",
    "os.chdir(SPECFEM2D_WORKDIR)\n",
    "!pwd\n",
    "# Run the mesher and solver to generate our initial model\n",
    "!./bin/xmeshfem2D > OUTPUT_FILES/mesher_log.txt\n",
    "!./bin/xspecfem2D > OUTPUT_FILES/solver_log.txt\n",
    "\n",
    "# Move all the relevant files into OUTPUT_FILES\n",
    "!mv ./DATA/*bin OUTPUT_FILES\n",
    "!mv OUTPUT_FILES OUTPUT_FILES_INIT\n",
    "\n",
    "!head OUTPUT_FILES_INIT/solver_log.txt\n",
    "!tail OUTPUT_FILES_INIT/solver_log.txt"
   ]
  },
  {
   "cell_type": "markdown",
   "id": "8543332e-b7ca-4329-95d7-5808e12b271d",
   "metadata": {},
   "source": [
    "### Generate true model"
   ]
  },
  {
   "cell_type": "code",
   "execution_count": 9,
   "id": "ce636ba5-69f1-44f3-b99f-d046f3da7a64",
   "metadata": {},
   "outputs": [
    {
     "name": "stdout",
     "output_type": "stream",
     "text": [
      "/home/scoped/work/specfem2d_workdir\n",
      "bin  DATA  OUTPUT_FILES_INIT\n",
      "interfaces_Tape2007.dat\t\t     SOURCE_003  SOURCE_012  SOURCE_021\n",
      "model_velocity.dat_checker\t     SOURCE_004  SOURCE_013  SOURCE_022\n",
      "Par_file\t\t\t     SOURCE_005  SOURCE_014  SOURCE_023\n",
      "Par_file_Tape2007_132rec_checker     SOURCE_006  SOURCE_015  SOURCE_024\n",
      "Par_file_Tape2007_onerec\t     SOURCE_007  SOURCE_016  SOURCE_025\n",
      "proc000000_model_velocity.dat_input  SOURCE_008  SOURCE_017  STATIONS\n",
      "SOURCE\t\t\t\t     SOURCE_009  SOURCE_018  STATIONS_checker\n",
      "SOURCE_001\t\t\t     SOURCE_010  SOURCE_019\n",
      "SOURCE_002\t\t\t     SOURCE_011  SOURCE_020\n",
      "NPROC: 1 -> 1\n",
      "MODEL: default -> legacy\n",
      "setup_with_binary_database: 0 -> 1\n",
      "SAVE_MODEL: default -> binary\n",
      "save_ASCII_kernels: .true. -> .false.\n"
     ]
    }
   ],
   "source": [
    "# GENERATE MODEL_TRUE\n",
    "os.chdir(SPECFEM2D_WORKDIR)\n",
    "shutil.rmtree(\"DATA\")\n",
    "\n",
    "# Copy the DATA/ directory because we will be making edits here frequently and it's useful to\n",
    "# retain the original files for reference. We will be running one of the example problems: Tape2007\n",
    "shutil.copytree(os.path.join(TAPE_2007_EXAMPLE, \"DATA\"), \"DATA\")\n",
    "!pwd\n",
    "!ls\n",
    "\n",
    "os.chdir(SPECFEM2D_DATA)\n",
    "# Symlink source 001 as our main source\n",
    "if os.path.exists(\"SOURCE\"):\n",
    "    os.remove(\"SOURCE\")\n",
    "os.symlink(\"SOURCE_001\", \"SOURCE\")\n",
    "\n",
    "# Copy the correct Par_file so that edits do not affect the original file\n",
    "if os.path.exists(\"Par_file\"):\n",
    "    os.remove(\"Par_file\")\n",
    "shutil.copy(\"Par_file_Tape2007_onerec\", \"Par_file\")\n",
    "!ls\n",
    "\n",
    "# Edit the Par_file to use checkboard data from Tape 2007\n",
    "os.chdir(SPECFEM2D_DATA)\n",
    "!seisflows sempar NPROC 1 \n",
    "!seisflows sempar model legacy \n",
    "!seisflows sempar setup_with_binary_database 1  # allow creation of .bin files\n",
    "!seisflows sempar save_model binary  # output model in .bin database format\n",
    "!seisflows sempar save_ascii_kernels .false.  # output kernels in .bin format, not ASCII"
   ]
  },
  {
   "cell_type": "code",
   "execution_count": 10,
   "id": "cbcccde5-ac15-4194-962c-64b7e55a4313",
   "metadata": {},
   "outputs": [
    {
     "name": "stdout",
     "output_type": "stream",
     "text": [
      "\n",
      " **********************************************\n",
      " **** Specfem 2-D Solver - MPI version     ****\n",
      " **********************************************\n",
      "\n",
      " Running Git version of the code corresponding to commit 604f766101c9ece3d588d61e6275d81d50dd8e65\n",
      " dating From Date:   Thu Sep 22 12:55:08 2022 +0200\n",
      "\n",
      " There are            1  MPI processes\n",
      " Processes are numbered from 0 to            0\n",
      " -------------------------------------------------------------------------------\n",
      " Program SPECFEM2D: \n",
      " -------------------------------------------------------------------------------\n",
      " -------------------------------------------------------------------------------\n",
      " Tape-Liu-Tromp (GJI 2007)\n",
      " -------------------------------------------------------------------------------\n",
      " -------------------------------------------------------------------------------\n",
      " D a t e : 01 - 03 - 2023                                 T i m e  : 03:10:04\n",
      " -------------------------------------------------------------------------------\n",
      " -------------------------------------------------------------------------------\n"
     ]
    }
   ],
   "source": [
    "# Re-run the mesher and solver to generate our target velocity model\n",
    "os.chdir(SPECFEM2D_WORKDIR)\n",
    "\n",
    "# Make sure the ./OUTPUT_FILES directory exists since we moved the old one\n",
    "if os.path.exists(SPECFEM2D_OUTPUT):\n",
    "    shutil.rmtree(SPECFEM2D_OUTPUT)\n",
    "os.mkdir(SPECFEM2D_OUTPUT)\n",
    "\n",
    "# Run the binaries to generate MODEL_TRUE\n",
    "!./bin/xmeshfem2D > OUTPUT_FILES/mesher_log.txt\n",
    "!./bin/xspecfem2D > OUTPUT_FILES/solver_log.txt\n",
    "\n",
    "# Move all the relevant files into OUTPUT_FILES\n",
    "!mv ./DATA/*bin OUTPUT_FILES\n",
    "!mv OUTPUT_FILES OUTPUT_FILES_TRUE\n",
    "\n",
    "!head OUTPUT_FILES_TRUE/solver_log.txt\n",
    "!tail OUTPUT_FILES_TRUE/solver_log.txt"
   ]
  },
  {
   "cell_type": "code",
   "execution_count": 11,
   "id": "60b5e7fc-93f0-49d4-bf1a-3706b08389b8",
   "metadata": {},
   "outputs": [
    {
     "name": "stdout",
     "output_type": "stream",
     "text": [
      "bin  DATA  OUTPUT_FILES_INIT  OUTPUT_FILES_TRUE\n"
     ]
    }
   ],
   "source": [
    "# Great, we have all the necessary SPECFEM files to run our SeisFlows inversion!\n",
    "!ls"
   ]
  },
  {
   "cell_type": "code",
   "execution_count": 12,
   "id": "2c2a5039-a35c-4362-b610-eb4178f909cd",
   "metadata": {},
   "outputs": [
    {
     "name": "stdout",
     "output_type": "stream",
     "text": [
      "S000000 AA 2.43610e+05 2.78904e+05 0.0 0.0\n",
      "S000001 AA 3.38981e+05 1.77849e+05 0.0 0.0\n",
      "S000002 AA 1.64438e+05 2.94733e+05 0.0 0.0\n",
      "S000003 AA 9.22250e+04 3.68887e+05 0.0 0.0\n",
      "S000004 AA 2.90702e+05 2.46865e+05 0.0 0.0\n",
      "S000005 AA 2.85186e+05 2.09065e+05 0.0 0.0\n",
      "S000006 AA 4.26783e+05 1.80623e+05 0.0 0.0\n",
      "S000007 AA 2.59207e+05 1.70701e+05 0.0 0.0\n",
      "S000008 AA 3.75965e+05 2.18298e+05 0.0 0.0\n",
      "S000009 AA 2.22832e+05 2.44253e+05 0.0 0.0\n"
     ]
    }
   ],
   "source": [
    "# Copy stations file to run inversion with the 132 stations of the checker example\n",
    "os.chdir(SPECFEM2D_DATA)\n",
    "shutil.copy(\"STATIONS\", \"STATIONS_one\")\n",
    "shutil.copy(\"STATIONS_checker\", \"STATIONS\")\n",
    "!head STATIONS"
   ]
  },
  {
   "cell_type": "code",
   "execution_count": null,
   "id": "432a344f-ccb2-4d7a-8bfc-62fa5bfb266c",
   "metadata": {},
   "outputs": [],
   "source": []
  }
 ],
 "metadata": {
  "kernelspec": {
   "display_name": "Python 3 (ipykernel)",
   "language": "python",
   "name": "python3"
  },
  "language_info": {
   "codemirror_mode": {
    "name": "ipython",
    "version": 3
   },
   "file_extension": ".py",
   "mimetype": "text/x-python",
   "name": "python",
   "nbconvert_exporter": "python",
   "pygments_lexer": "ipython3",
   "version": "3.10.6"
  }
 },
 "nbformat": 4,
 "nbformat_minor": 5
}
